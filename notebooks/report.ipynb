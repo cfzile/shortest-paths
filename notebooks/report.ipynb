{
 "cells": [
  {
   "cell_type": "code",
   "execution_count": 1,
   "metadata": {},
   "outputs": [],
   "source": [
    "#include \"general.h\"\n",
    "#include \"Graph.h\"\n",
    "#include \"algs/AlgFloyd.h\"\n",
    "#include \"algs/AlgJohnson.h\"\n",
    "#include \"algs/AlgMatrixMultiplication.h\"\n",
    "#include \"algs/AlgAStar.h\""
   ]
  },
  {
   "cell_type": "markdown",
   "metadata": {},
   "source": [
    "# Лабораторная работа #2"
   ]
  },
  {
   "cell_type": "code",
   "execution_count": 3,
   "metadata": {},
   "outputs": [],
   "source": [
    "vector<Graph *> graphs_AStar = readGraphs(\"graphs_for_AStar\", true);"
   ]
  },
  {
   "cell_type": "code",
   "execution_count": 4,
   "metadata": {},
   "outputs": [],
   "source": [
    "vector<Graph *> graphs = readGraphs(\"graphs\");"
   ]
  },
  {
   "cell_type": "markdown",
   "metadata": {},
   "source": [
    "<em>main.cpp</em> - файл содержит код для замеры времени работы алгоритмов (замеры выводятся в файлы results/time_{alg_name}.txt)\n",
    "\n",
    "<em>algs</em> - директория содержит реализации алгоритмов\n",
    "\n",
    "<em>graphs</em> - директория содержит случайные графы для тестирования алгоритмов (кроме A*)\n",
    "\n",
    "<em>graphs_for_AStar</em> - директория содержит случайные графы для тестирования алгоритма А*\n",
    "\n",
    "<em>imgs</em> - директория содержит графики времени работы\n",
    "\n",
    "<em>results</em> - директория содержит вывод замеров\n",
    "\n",
    "<em>notebooks</em> - директория содержит отчет, код для рисования графиков"
   ]
  },
  {
   "cell_type": "markdown",
   "metadata": {},
   "source": [
    "### Тестирование алгоритмов"
   ]
  },
  {
   "cell_type": "markdown",
   "metadata": {},
   "source": [
    "Алгоритмы были протестированы на тестах задач (сайт <em>acmp.ru</em>):\n",
    "- алгоритм Дейкстры - <a href=\"https://acmp.ru/index.asp?main=task&id_task=132\">ссылка на задачу (11 тестов, id посылки 12692337)</a>\n",
    "- алгоритм Форда-Беллмана - <a href=\"https://acmp.ru/index.asp?main=task&id_task=138\">ссылка на задачу (51 тестов, id посылки 12680980)</a>\n",
    "- алгоритм Флойда; алгоритм Джонсона; поиск кратчайших путей через матричное умножение - <a href=\"https://acmp.ru/index.asp?main=task&id_task=135\">ссылка на задачу (17 тестов, id посылок 8661843, 12681043, 12681505)</a>\n",
    "- алгоритм А* - тестирование на случайных графах (вершины - клетки сетки n x n, ребра добавлялись случайно, но только между соседними клетками); эвристическая функция - манхэттенское расстояние; проверка результатов с помощью алгоритма Форда-Беллмана."
   ]
  },
  {
   "cell_type": "markdown",
   "metadata": {},
   "source": [
    "Тестирование алгоритма А*:"
   ]
  },
  {
   "cell_type": "code",
   "execution_count": 5,
   "metadata": {},
   "outputs": [
    {
     "name": "stdout",
     "output_type": "stream",
     "text": [
      "Доля ошибок: 0"
     ]
    }
   ],
   "source": [
    "int errors = 0, repeats = 10;\n",
    "\n",
    "srand(time(nullptr));\n",
    "\n",
    "for (int i = 0; i < repeats; i++) \n",
    "    for (auto graph : graphs_AStar) {\n",
    "\n",
    "        vector<int> ans_BellmanFord;\n",
    "\n",
    "        Time time1, time2;\n",
    "        int ans_astar;\n",
    "        bool hasNegCycles;\n",
    "        \n",
    "        int s = rand() % graph->numNodes;\n",
    "        int t = rand() % graph->numNodes;\n",
    "        \n",
    "        tie(ans_BellmanFord, time1, hasNegCycles) = AlgBellmanFord(graph->edges, graph->numNodes, s);\n",
    "        tie(ans_astar, time2) = AlgAStar(graph, s, t);\n",
    "\n",
    "        if (ans_astar != ans_BellmanFord[t])\n",
    "            errors++;\n",
    "\n",
    "    }\n",
    "\n",
    "cout << \"Доля ошибок: \" << double(errors)/(repeats * graphs.size());"
   ]
  },
  {
   "cell_type": "markdown",
   "metadata": {},
   "source": [
    "### Сравнение времени работы\n",
    "\n",
    "Для сравнение времени работы были использованы случайные графы (все веса в графах положительные):\n",
    "\n",
    "#### Сравнение алгоритма Джонсона, алгоритма Флойда и ПКП через матричное умножение\n",
    "\n",
    "По оси ОХ кол-во ребер в графе; по оси OY время работы.\n",
    "\n",
    "<img src=\"../imgs/exp1_100.png\">\n",
    "<img src=\"../imgs/exp1_200.png\">\n",
    "<img src=\"../imgs/exp1_300.png\">\n",
    "<img src=\"../imgs/exp1_400.png\">\n",
    "<img src=\"../imgs/exp1_500.png\">\n",
    "\n",
    "<b>Вывод:</b> Matrix Multiplication работает медленнее всех (так как умножение матриц было реализовано за куб), \n",
    "алгоритм Джонсона работает быстрее алгоритма Флойда на разреженных графах и медленнее на плотных. \n",
    "Время работы алгоритма Флойда не зависит от кол-ва ребер в графе. Время работы алгоритма Джонсона линейно зависит от\n",
    "кол-ва ребер в графе. Время работы Matrix Multiplication не завесит от кол-ва ребер.\n",
    "\n",
    "#### Сравнение алгоритма A*  и алгоритма Дейкстры\n",
    "\n",
    "По оси ОХ кол-во ребер в графе; по оси OY время работы.\n",
    "\n",
    "<img src=\"../imgs/exp2_100.png\">\n",
    "<img src=\"../imgs/exp2_400.png\">\n",
    "<img src=\"../imgs/exp2_900.png\">\n",
    "<img src=\"../imgs/exp2_1600.png\">\n",
    "<img src=\"../imgs/exp2_2500.png\">\n",
    "\n",
    "<b>Вывод:</b> в некоторых случаях алгоритм А* работает значительно быстрее алгоритма Дейкстры.\n",
    "\n",
    "<br>"
   ]
  }
 ],
 "metadata": {
  "kernelspec": {
   "display_name": "C++14",
   "language": "C++14",
   "name": "xeus-cling-cpp14"
  },
  "language_info": {
   "codemirror_mode": "text/x-c++src",
   "file_extension": ".cpp",
   "mimetype": "text/x-c++src",
   "name": "c++",
   "version": "-std=c++14"
  }
 },
 "nbformat": 4,
 "nbformat_minor": 2
}
